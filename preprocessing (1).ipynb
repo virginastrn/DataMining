{
  "nbformat": 4,
  "nbformat_minor": 0,
  "metadata": {
    "colab": {
      "provenance": []
    },
    "kernelspec": {
      "name": "python3",
      "display_name": "Python 3"
    },
    "language_info": {
      "name": "python"
    }
  },
  "cells": [
    {
      "cell_type": "code",
      "execution_count": 15,
      "metadata": {
        "id": "4vrNKE8_1okE"
      },
      "outputs": [],
      "source": [
        "# 1. IMPORT LIBRARY\n",
        "import numpy as np\n",
        "import pandas as pd\n",
        "from sklearn.datasets import load_iris\n",
        "from sklearn.model_selection import train_test_split\n",
        "from sklearn.preprocessing import StandardScaler, LabelEncoder"
      ]
    },
    {
      "cell_type": "code",
      "source": [
        "# 2. MEMUAT DATASET IRIS\n",
        "iris = load_iris()"
      ],
      "metadata": {
        "id": "k1_1ee-g2-bv"
      },
      "execution_count": 16,
      "outputs": []
    },
    {
      "cell_type": "code",
      "source": [
        "# X: Fitur (4 kolom numerik)\n",
        "X = iris.data"
      ],
      "metadata": {
        "id": "a7KIEzXQ3LMk"
      },
      "execution_count": 17,
      "outputs": []
    },
    {
      "cell_type": "code",
      "source": [
        "# Y: Label (Target/Spesies: 0, 1, 2)\n",
        "Y = iris.target"
      ],
      "metadata": {
        "id": "oGYijDE73P64"
      },
      "execution_count": 18,
      "outputs": []
    },
    {
      "cell_type": "code",
      "source": [
        "print(\"Tipe data X (Fitur): \\n\", X.dtype)\n",
        "print(\"Bentuk data X (Baris, Kolom):\", X.shape)\n",
        "print(\"5 Baris Data X Awal:\\n\", X[:5])"
      ],
      "metadata": {
        "colab": {
          "base_uri": "https://localhost:8080/"
        },
        "id": "Oi0FhPaK4Apx",
        "outputId": "7d967446-2b53-4a9a-aa8a-6fc91020afca"
      },
      "execution_count": 19,
      "outputs": [
        {
          "output_type": "stream",
          "name": "stdout",
          "text": [
            "Tipe data X (Fitur): \n",
            " float64\n",
            "Bentuk data X (Baris, Kolom): (150, 4)\n",
            "5 Baris Data X Awal:\n",
            " [[5.1 3.5 1.4 0.2]\n",
            " [4.9 3.  1.4 0.2]\n",
            " [4.7 3.2 1.3 0.2]\n",
            " [4.6 3.1 1.5 0.2]\n",
            " [5.  3.6 1.4 0.2]]\n"
          ]
        }
      ]
    },
    {
      "cell_type": "code",
      "source": [
        "# 3. ENCODING LABEL (Y)\n",
        "# Label (Y) sudah numerik, tapi kita gunakan LabelEncoder untuk memastikan\n",
        "le = LabelEncoder()\n",
        "Y_encoded = le.fit_transform(Y)\n",
        "\n",
        "print(\"Label Y (Target) setelah di-encode (5 baris pertama):\\n\", Y_encoded[:5])"
      ],
      "metadata": {
        "colab": {
          "base_uri": "https://localhost:8080/"
        },
        "id": "JOoamN-d-KMw",
        "outputId": "b8150af8-b6b7-41be-cd77-ceba4e646ba9"
      },
      "execution_count": 20,
      "outputs": [
        {
          "output_type": "stream",
          "name": "stdout",
          "text": [
            "Label Y (Target) setelah di-encode (5 baris pertama):\n",
            " [0 0 0 0 0]\n"
          ]
        }
      ]
    },
    {
      "cell_type": "code",
      "source": [
        "# 4. PEMBAGIAN DATA (TRAIN-TEST SPLIT)\n",
        "# Membagi X dan Y (yang sudah di-encode)\n",
        "# random_state=42 digunakan agar pembagian selalu sama setiap kali dijalankan\n",
        "X_train, X_test, y_train, y_test = train_test_split(X, Y_encoded, test_size = 0.2, random_state = 42)\n",
        "\n",
        "print(f\"Total Data: {len(X)}\")\n",
        "print(f\"Data Training (80%): {len(X_train)} baris\")\n",
        "print(f\"Data Testing (20%): {len(X_test)} baris\")"
      ],
      "metadata": {
        "colab": {
          "base_uri": "https://localhost:8080/"
        },
        "id": "fuc9bgpm5Ugn",
        "outputId": "b8b92114-e052-4168-b4d5-9fdb94171164"
      },
      "execution_count": 21,
      "outputs": [
        {
          "output_type": "stream",
          "name": "stdout",
          "text": [
            "Total Data: 150\n",
            "Data Training (80%): 120 baris\n",
            "Data Testing (20%): 30 baris\n"
          ]
        }
      ]
    },
    {
      "cell_type": "code",
      "source": [
        "# 5. FEATURE SCALING (STANDARDISASI)\n",
        "sc = StandardScaler()\n",
        "\n",
        "# Melatih dan menerapkan scaler pada Training Set (fit_transform)\n",
        "# Ini menghitung nilai rata-rata dan standar deviasi dari X_train.\n",
        "X_train_scaled = sc.fit_transform(X_train)\n",
        "\n",
        "# Menerapkan scaler pada Testing Set (transform)\n",
        "# Menggunakan nilai rata-rata dan standar deviasi dari X_train.\n",
        "X_test_scaled = sc.transform(X_test)\n",
        "\n",
        "print(\"X_train SEBELUM Scaling (5 baris pertama):\\n\", X_train[:5])\n",
        "print(\"\\nX_train SETELAH Scaling (5 baris pertama):\")\n",
        "# Nilai-nilai sekarang berada di sekitar 0 (nilai negatif dan positif kecil)\n",
        "print(X_train_scaled[:5])"
      ],
      "metadata": {
        "colab": {
          "base_uri": "https://localhost:8080/"
        },
        "id": "Wx0JDjEZ6gbc",
        "outputId": "021cf1df-8e7e-4623-ca95-62d9b2f01c2d"
      },
      "execution_count": 22,
      "outputs": [
        {
          "output_type": "stream",
          "name": "stdout",
          "text": [
            "X_train SEBELUM Scaling (5 baris pertama):\n",
            " [[4.6 3.6 1.  0.2]\n",
            " [5.7 4.4 1.5 0.4]\n",
            " [6.7 3.1 4.4 1.4]\n",
            " [4.8 3.4 1.6 0.2]\n",
            " [4.4 3.2 1.3 0.2]]\n",
            "\n",
            "X_train SETELAH Scaling (5 baris pertama):\n",
            "[[-1.47393679  1.20365799 -1.56253475 -1.31260282]\n",
            " [-0.13307079  2.99237573 -1.27600637 -1.04563275]\n",
            " [ 1.08589829  0.08570939  0.38585821  0.28921757]\n",
            " [-1.23014297  0.75647855 -1.2187007  -1.31260282]\n",
            " [-1.7177306   0.30929911 -1.39061772 -1.31260282]]\n"
          ]
        }
      ]
    }
  ]
}